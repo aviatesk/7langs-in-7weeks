{
 "cells": [
  {
   "cell_type": "markdown",
   "metadata": {
    "nteract": {
     "transient": {
      "deleting": false
     }
    }
   },
   "source": [
    "### day 2\n"
   ]
  },
  {
   "cell_type": "markdown",
   "metadata": {
    "nteract": {
     "transient": {
      "deleting": false
     }
    }
   },
   "source": [
    "#### Collections (`List`s, `Set`s, and `Map`s)"
   ]
  },
  {
   "cell_type": "markdown",
   "metadata": {
    "nteract": {
     "transient": {
      "deleting": false
     }
    }
   },
   "source": [
    "`List`s"
   ]
  },
  {
   "cell_type": "code",
   "execution_count": 1,
   "metadata": {
    "jupyter": {
     "outputs_hidden": false,
     "source_hidden": false
    },
    "nteract": {
     "transient": {
      "deleting": false
     }
    },
    "outputExpanded": false
   },
   "outputs": [
    {
     "data": {
      "text/plain": [
       "\u001b[36mres0_0\u001b[39m: \u001b[32mNil\u001b[39m.type = \u001b[33mList\u001b[39m()\n",
       "\u001b[36mres0_1\u001b[39m: \u001b[32mList\u001b[39m[\u001b[32mInt\u001b[39m] = \u001b[33mList\u001b[39m(\u001b[32m1\u001b[39m, \u001b[32m2\u001b[39m, \u001b[32m3\u001b[39m)\n",
       "\u001b[36mres0_2\u001b[39m: \u001b[32mList\u001b[39m[\u001b[32mString\u001b[39m] = \u001b[33mList\u001b[39m(\u001b[32m\"one\"\u001b[39m, \u001b[32m\"two\"\u001b[39m, \u001b[32m\"three\"\u001b[39m)\n",
       "\u001b[36mres0_3\u001b[39m: \u001b[32mList\u001b[39m[\u001b[32mAny\u001b[39m] = \u001b[33mList\u001b[39m(\u001b[32m\"one\"\u001b[39m, \u001b[32m\"two\"\u001b[39m, \u001b[32m3\u001b[39m)\n",
       "\u001b[36mres0_4\u001b[39m: \u001b[32mAny\u001b[39m = \u001b[32m3\u001b[39m"
      ]
     },
     "execution_count": 1,
     "metadata": {},
     "output_type": "execute_result"
    }
   ],
   "source": [
    "Nil\n",
    "List(1, 2, 3)\n",
    "List(\"one\", \"two\", \"three\")\n",
    "List(\"one\", \"two\", 3)\n",
    "List(\"one\", \"two\", 3)(2) // `Any` gets returned"
   ]
  },
  {
   "cell_type": "code",
   "execution_count": 2,
   "metadata": {
    "jupyter": {
     "outputs_hidden": false,
     "source_hidden": false
    },
    "nteract": {
     "transient": {
      "deleting": false
     }
    },
    "outputExpanded": false
   },
   "outputs": [
    {
     "ename": "",
     "evalue": "",
     "output_type": "error",
     "traceback": [
      "\u001b[31mjava.lang.IndexOutOfBoundsException: 3\u001b[39m\n  scala.collection.LinearSeqOps.apply(\u001b[32mLinearSeq.scala\u001b[39m:\u001b[32m116\u001b[39m)\n  scala.collection.LinearSeqOps.apply$(\u001b[32mLinearSeq.scala\u001b[39m:\u001b[32m113\u001b[39m)\n  scala.collection.immutable.List.apply(\u001b[32mList.scala\u001b[39m:\u001b[32m79\u001b[39m)\n  ammonite.$sess.cmd1$Helper.<init>(\u001b[32mcmd1.sc\u001b[39m:\u001b[32m1\u001b[39m)\n  ammonite.$sess.cmd1$.<clinit>(\u001b[32mcmd1.sc\u001b[39m:\u001b[32m7\u001b[39m)"
     ]
    }
   ],
   "source": [
    "List(\"one\", \"two\", 3)(3)"
   ]
  },
  {
   "cell_type": "code",
   "execution_count": 3,
   "metadata": {
    "jupyter": {
     "outputs_hidden": false,
     "source_hidden": false
    },
    "nteract": {
     "transient": {
      "deleting": false
     }
    },
    "outputExpanded": false
   },
   "outputs": [
    {
     "ename": "",
     "evalue": "",
     "output_type": "error",
     "traceback": [
      "\u001b[31mjava.lang.IndexOutOfBoundsException: -1\u001b[39m\n  scala.collection.LinearSeqOps.apply(\u001b[32mLinearSeq.scala\u001b[39m:\u001b[32m114\u001b[39m)\n  scala.collection.LinearSeqOps.apply$(\u001b[32mLinearSeq.scala\u001b[39m:\u001b[32m113\u001b[39m)\n  scala.collection.immutable.List.apply(\u001b[32mList.scala\u001b[39m:\u001b[32m79\u001b[39m)\n  ammonite.$sess.cmd2$Helper.<init>(\u001b[32mcmd2.sc\u001b[39m:\u001b[32m1\u001b[39m)\n  ammonite.$sess.cmd2$.<clinit>(\u001b[32mcmd2.sc\u001b[39m:\u001b[32m7\u001b[39m)"
     ]
    }
   ],
   "source": [
    "List(\"one\", \"two\", 3)(-1)"
   ]
  },
  {
   "cell_type": "markdown",
   "metadata": {
    "nteract": {
     "transient": {
      "deleting": false
     }
    }
   },
   "source": [
    "`Set`s"
   ]
  },
  {
   "cell_type": "code",
   "execution_count": 4,
   "metadata": {
    "jupyter": {
     "outputs_hidden": false,
     "source_hidden": false
    },
    "nteract": {
     "transient": {
      "deleting": false
     }
    },
    "outputExpanded": false
   },
   "outputs": [
    {
     "data": {
      "text/plain": [
       "\u001b[36manimals\u001b[39m: \u001b[32mSet\u001b[39m[\u001b[32mString\u001b[39m] = \u001b[33mSet\u001b[39m(\u001b[32m\"lions\"\u001b[39m, \u001b[32m\"tigers\"\u001b[39m, \u001b[32m\"bears\"\u001b[39m)\n",
       "\u001b[36mres3_1\u001b[39m: \u001b[32mSet\u001b[39m[\u001b[32mString\u001b[39m] = \u001b[33mSet\u001b[39m(\u001b[32m\"lions\"\u001b[39m, \u001b[32m\"tigers\"\u001b[39m, \u001b[32m\"bears\"\u001b[39m, \u001b[32m\"armadillos\"\u001b[39m)\n",
       "\u001b[36mres3_2\u001b[39m: \u001b[32mSet\u001b[39m[\u001b[32mString\u001b[39m] = \u001b[33mSet\u001b[39m(\u001b[32m\"lions\"\u001b[39m, \u001b[32m\"bears\"\u001b[39m)\n",
       "\u001b[36mres3_3\u001b[39m: \u001b[32mSet\u001b[39m[\u001b[32mString\u001b[39m] = \u001b[33mHashSet\u001b[39m(\n",
       "  \u001b[32m\"bears\"\u001b[39m,\n",
       "  \u001b[32m\"tigers\"\u001b[39m,\n",
       "  \u001b[32m\"lions\"\u001b[39m,\n",
       "  \u001b[32m\"armadillos\"\u001b[39m,\n",
       "  \u001b[32m\"raccoons\"\u001b[39m\n",
       ")\n",
       "\u001b[36mres3_4\u001b[39m: \u001b[32mSet\u001b[39m[\u001b[32mString\u001b[39m] = \u001b[33mSet\u001b[39m(\u001b[32m\"tigers\"\u001b[39m)\n",
       "\u001b[36mres3_5\u001b[39m: \u001b[32mSet\u001b[39m[\u001b[32mString\u001b[39m] = \u001b[33mSet\u001b[39m(\u001b[32m\"lions\"\u001b[39m, \u001b[32m\"tigers\"\u001b[39m)\n",
       "\u001b[36mres3_6\u001b[39m: \u001b[32mBoolean\u001b[39m = true"
      ]
     },
     "execution_count": 4,
     "metadata": {},
     "output_type": "execute_result"
    }
   ],
   "source": [
    "val animals = Set(\"lions\", \"tigers\", \"bears\")\n",
    "\n",
    "// NOTE:\n",
    "// these operations are NOT destructive;\n",
    "// each set operation builds a new set rather than modifying the old ones\n",
    "animals + \"armadillos\"\n",
    "animals - \"tigers\"\n",
    "animals ++ Set(\"armadillos\", \"raccoons\")\n",
    "animals -- Set(\"lions\", \"bears\")\n",
    "animals & Set(\"almadillos\", \"raccoons\", \"lions\", \"tigers\")\n",
    "\n",
    "Set(1, 2, 3) == Set(3, 2, 1)"
   ]
  },
  {
   "cell_type": "markdown",
   "metadata": {
    "nteract": {
     "transient": {
      "deleting": false
     }
    }
   },
   "source": [
    "`Map`s"
   ]
  },
  {
   "cell_type": "code",
   "execution_count": 5,
   "metadata": {
    "jupyter": {
     "outputs_hidden": false,
     "source_hidden": false
    },
    "nteract": {
     "transient": {
      "deleting": false
     }
    },
    "outputExpanded": false
   },
   "outputs": [
    {
     "data": {
      "text/plain": [
       "\u001b[36mordinals\u001b[39m: \u001b[32mMap\u001b[39m[\u001b[32mInt\u001b[39m, \u001b[32mString\u001b[39m] = \u001b[33mMap\u001b[39m(\u001b[32m0\u001b[39m -> \u001b[32m\"zero\"\u001b[39m, \u001b[32m1\u001b[39m -> \u001b[32m\"one\"\u001b[39m, \u001b[32m2\u001b[39m -> \u001b[32m\"two\"\u001b[39m)\n",
       "\u001b[36mres4_1\u001b[39m: \u001b[32mString\u001b[39m = \u001b[32m\"two\"\u001b[39m"
      ]
     },
     "execution_count": 5,
     "metadata": {},
     "output_type": "execute_result"
    }
   ],
   "source": [
    "val ordinals = Map(0 -> \"zero\", 1 -> \"one\", 2 -> \"two\")\n",
    "ordinals(2)"
   ]
  },
  {
   "cell_type": "code",
   "execution_count": 6,
   "metadata": {
    "jupyter": {
     "outputs_hidden": false,
     "source_hidden": false
    },
    "nteract": {
     "transient": {
      "deleting": false
     }
    },
    "outputExpanded": false
   },
   "outputs": [
    {
     "data": {
      "text/plain": [
       "\u001b[32mimport \u001b[39m\u001b[36mscala.collection.mutable.HashMap\n",
       "\n",
       "\u001b[39m\n",
       "\u001b[36mmap\u001b[39m: \u001b[32mHashMap\u001b[39m[\u001b[32mInt\u001b[39m, \u001b[32mString\u001b[39m] = \u001b[33mHashMap\u001b[39m(\u001b[32m4\u001b[39m -> \u001b[32m\"four\"\u001b[39m, \u001b[32m8\u001b[39m -> \u001b[32m\"eight\"\u001b[39m)\n",
       "\u001b[36mres5_2\u001b[39m: \u001b[32mHashMap\u001b[39m[\u001b[32mInt\u001b[39m, \u001b[32mString\u001b[39m] = \u001b[33mHashMap\u001b[39m(\u001b[32m4\u001b[39m -> \u001b[32m\"four\"\u001b[39m, \u001b[32m8\u001b[39m -> \u001b[32m\"eight\"\u001b[39m)\n",
       "\u001b[36mres5_3\u001b[39m: \u001b[32mHashMap\u001b[39m[\u001b[32mInt\u001b[39m, \u001b[32mString\u001b[39m] = \u001b[33mHashMap\u001b[39m(\u001b[32m4\u001b[39m -> \u001b[32m\"four\"\u001b[39m, \u001b[32m8\u001b[39m -> \u001b[32m\"eight\"\u001b[39m)\n",
       "\u001b[36mres5_4\u001b[39m: \u001b[32mHashMap\u001b[39m[\u001b[32mInt\u001b[39m, \u001b[32mString\u001b[39m] = \u001b[33mHashMap\u001b[39m(\u001b[32m4\u001b[39m -> \u001b[32m\"four\"\u001b[39m, \u001b[32m8\u001b[39m -> \u001b[32m\"eight\"\u001b[39m)"
      ]
     },
     "execution_count": 6,
     "metadata": {},
     "output_type": "execute_result"
    }
   ],
   "source": [
    "import scala.collection.mutable.HashMap\n",
    "\n",
    "val map = new HashMap[Int, String] // \"immutable\" here means the _reference_ to this `map` cannot change\n",
    "map += 4 -> \"four\"\n",
    "map += 8 -> \"eight\"\n",
    "map // mutated !"
   ]
  },
  {
   "cell_type": "code",
   "execution_count": 6,
   "metadata": {
    "jupyter": {
     "outputs_hidden": false,
     "source_hidden": false
    },
    "nteract": {
     "transient": {
      "deleting": false
     }
    },
    "outputExpanded": false
   },
   "outputs": [
    {
     "name": "stderr",
     "output_type": "stream",
     "text": [
      "cmd6.sc:1: type mismatch;\n",
      " found   : (String, Int)\n",
      " required: (Int, String)\n",
      "val res6 = map += \"zero\" -> 0 // error if given wrong type, of course\n",
      "                         ^Compilation Failed"
     ]
    },
    {
     "ename": "",
     "evalue": "",
     "output_type": "error",
     "traceback": [
      "Compilation Failed"
     ]
    }
   ],
   "source": [
    "map += \"zero\" -> 0 // error if given wrong type, of course"
   ]
  },
  {
   "cell_type": "markdown",
   "metadata": {
    "nteract": {
     "transient": {
      "deleting": false
     }
    }
   },
   "source": [
    "Scala type hierarchy:\n",
    "- `Any`: the root class in the Scala class hierarchy; any Scala type will inherit from `Any`\n",
    "- `Nothing`: a subtype of every type\n",
    "![scala-type-hierarchy](./scala-type-hierarchy.png)"
   ]
  },
  {
   "cell_type": "markdown",
   "metadata": {
    "nteract": {
     "transient": {
      "deleting": false
     }
    }
   },
   "source": [
    "Scala nil concepts:\n",
    "- `Null` is a trait, and `null` is an instance of `Null` (meaning \"an empty value\")\n",
    "- `Nothing` is a trait but has no instance; e.g. a method that throws an `Exception` has the return type `Nothing`\n",
    "- `Nil` is an empty collection"
   ]
  },
  {
   "cell_type": "markdown",
   "metadata": {
    "nteract": {
     "transient": {
      "deleting": false
     }
    }
   },
   "source": [
    "#### Higher order functions (a.k.a. _code blocks_ in Scala)"
   ]
  },
  {
   "cell_type": "code",
   "execution_count": 7,
   "metadata": {
    "jupyter": {
     "outputs_hidden": false,
     "source_hidden": false
    },
    "nteract": {
     "transient": {
      "deleting": false
     }
    },
    "outputExpanded": false
   },
   "outputs": [
    {
     "name": "stdout",
     "output_type": "stream",
     "text": [
      "frodo\n",
      "samwise\n",
      "pippin\n",
      "frodo\n",
      "samwise\n",
      "pippin\n",
      "frodo\n",
      "samwise\n",
      "pippin\n"
     ]
    },
    {
     "data": {
      "text/plain": [
       "\u001b[36mlist\u001b[39m: \u001b[32mList\u001b[39m[\u001b[32mString\u001b[39m] = \u001b[33mList\u001b[39m(\u001b[32m\"frodo\"\u001b[39m, \u001b[32m\"samwise\"\u001b[39m, \u001b[32m\"pippin\"\u001b[39m)\n",
       "\u001b[36mset\u001b[39m: \u001b[32mSet\u001b[39m[\u001b[32mString\u001b[39m] = \u001b[33mSet\u001b[39m(\u001b[32m\"frodo\"\u001b[39m, \u001b[32m\"samwise\"\u001b[39m, \u001b[32m\"pippin\"\u001b[39m)\n",
       "\u001b[36mmap\u001b[39m: \u001b[32mMap\u001b[39m[\u001b[32mString\u001b[39m, \u001b[32mString\u001b[39m] = \u001b[33mMap\u001b[39m(\n",
       "  \u001b[32m\"frodo\"\u001b[39m -> \u001b[32m\"hobbit\"\u001b[39m,\n",
       "  \u001b[32m\"samwise\"\u001b[39m -> \u001b[32m\"hobbit\"\u001b[39m,\n",
       "  \u001b[32m\"pippin\"\u001b[39m -> \u001b[32m\"hobbit\"\u001b[39m\n",
       ")"
      ]
     },
     "execution_count": 7,
     "metadata": {},
     "output_type": "execute_result"
    }
   ],
   "source": [
    "// data\n",
    "val list = List(\"frodo\", \"samwise\", \"pippin\")\n",
    "list.foreach(hobbit => println(hobbit))\n",
    "\n",
    "val set = Set(\"frodo\", \"samwise\", \"pippin\")\n",
    "set.foreach(hobbit => println(hobbit))\n",
    "\n",
    "val map = Map(\"frodo\" -> \"hobbit\", \"samwise\" -> \"hobbit\", \"pippin\" -> \"hobbit\")\n",
    "map.foreach(hobbit => println(hobbit._1))"
   ]
  },
  {
   "cell_type": "code",
   "execution_count": 8,
   "metadata": {
    "jupyter": {
     "outputs_hidden": false,
     "source_hidden": false
    },
    "nteract": {
     "transient": {
      "deleting": false
     }
    },
    "outputExpanded": false
   },
   "outputs": [
    {
     "data": {
      "text/plain": [
       "\u001b[36mlist\u001b[39m: \u001b[32mList\u001b[39m[\u001b[32mString\u001b[39m] = \u001b[33mList\u001b[39m(\u001b[32m\"frodo\"\u001b[39m, \u001b[32m\"samwise\"\u001b[39m, \u001b[32m\"pippin\"\u001b[39m)\n",
       "\u001b[36mres7_1\u001b[39m: \u001b[32mBoolean\u001b[39m = false\n",
       "\u001b[36mres7_2\u001b[39m: \u001b[32mBoolean\u001b[39m = true\n",
       "\u001b[36mres7_3\u001b[39m: \u001b[32mInt\u001b[39m = \u001b[32m3\u001b[39m\n",
       "\u001b[36mres7_4\u001b[39m: \u001b[32mInt\u001b[39m = \u001b[32m3\u001b[39m\n",
       "\u001b[36mres7_5\u001b[39m: \u001b[32mString\u001b[39m = \u001b[32m\"frodo\"\u001b[39m\n",
       "\u001b[36mres7_6\u001b[39m: \u001b[32mList\u001b[39m[\u001b[32mString\u001b[39m] = \u001b[33mList\u001b[39m(\u001b[32m\"samwise\"\u001b[39m, \u001b[32m\"pippin\"\u001b[39m)\n",
       "\u001b[36mres7_7\u001b[39m: \u001b[32mList\u001b[39m[\u001b[32mString\u001b[39m] = \u001b[33mList\u001b[39m(\u001b[32m\"frodo\"\u001b[39m, \u001b[32m\"samwise\"\u001b[39m)\n",
       "\u001b[36mres7_8\u001b[39m: \u001b[32mString\u001b[39m = \u001b[32m\"pippin\"\u001b[39m\n",
       "\u001b[36mres7_9\u001b[39m: \u001b[32mList\u001b[39m[\u001b[32mString\u001b[39m] = \u001b[33mList\u001b[39m(\u001b[32m\"pippin\"\u001b[39m, \u001b[32m\"samwise\"\u001b[39m, \u001b[32m\"frodo\"\u001b[39m)\n",
       "\u001b[36mres7_10\u001b[39m: \u001b[32mList\u001b[39m[\u001b[32mString\u001b[39m] = \u001b[33mList\u001b[39m(\u001b[32m\"samwise\"\u001b[39m, \u001b[32m\"pippin\"\u001b[39m)\n",
       "\u001b[36mres7_11\u001b[39m: \u001b[32mList\u001b[39m[\u001b[32mString\u001b[39m] = \u001b[33mList\u001b[39m(\u001b[32m\"pippin\"\u001b[39m)"
      ]
     },
     "execution_count": 8,
     "metadata": {},
     "output_type": "execute_result"
    }
   ],
   "source": [
    "// prepare for interation / recursion on `List`s\n",
    "val list = List(\"frodo\", \"samwise\", \"pippin\")\n",
    "list.isEmpty\n",
    "Nil.isEmpty\n",
    "list.length\n",
    "list.size\n",
    "list.head\n",
    "list.tail\n",
    "list.init\n",
    "list.last\n",
    "\n",
    "// utilties; don't mutate the list\n",
    "list.reverse\n",
    "list.drop(1)\n",
    "list.drop(2)"
   ]
  },
  {
   "cell_type": "code",
   "execution_count": 9,
   "metadata": {
    "jupyter": {
     "outputs_hidden": false,
     "source_hidden": false
    },
    "nteract": {
     "transient": {
      "deleting": false
     }
    },
    "outputExpanded": false
   },
   "outputs": [
    {
     "data": {
      "text/plain": [
       "\u001b[36mwords\u001b[39m: \u001b[32mList\u001b[39m[\u001b[32mString\u001b[39m] = \u001b[33mList\u001b[39m(\u001b[32m\"peg\"\u001b[39m, \u001b[32m\"al\"\u001b[39m, \u001b[32m\"bud\"\u001b[39m, \u001b[32m\"kelly\"\u001b[39m)\n",
       "\u001b[36mres8_1\u001b[39m: \u001b[32mInt\u001b[39m = \u001b[32m3\u001b[39m\n",
       "\u001b[36mres8_2\u001b[39m: \u001b[32mList\u001b[39m[\u001b[32mString\u001b[39m] = \u001b[33mList\u001b[39m(\u001b[32m\"peg\"\u001b[39m, \u001b[32m\"bud\"\u001b[39m, \u001b[32m\"kelly\"\u001b[39m)\n",
       "\u001b[36mres8_3\u001b[39m: \u001b[32mList\u001b[39m[\u001b[32mInt\u001b[39m] = \u001b[33mList\u001b[39m(\u001b[32m3\u001b[39m, \u001b[32m2\u001b[39m, \u001b[32m3\u001b[39m, \u001b[32m5\u001b[39m)\n",
       "\u001b[36mres8_4\u001b[39m: \u001b[32mBoolean\u001b[39m = true\n",
       "\u001b[36mres8_5\u001b[39m: \u001b[32mBoolean\u001b[39m = true\n",
       "\u001b[36mres8_6\u001b[39m: \u001b[32mBoolean\u001b[39m = false\n",
       "\u001b[36mres8_7\u001b[39m: \u001b[32mList\u001b[39m[\u001b[32mString\u001b[39m] = \u001b[33mList\u001b[39m(\u001b[32m\"al\"\u001b[39m, \u001b[32m\"bud\"\u001b[39m, \u001b[32m\"kelly\"\u001b[39m, \u001b[32m\"peg\"\u001b[39m)\n",
       "\u001b[36mres8_8\u001b[39m: \u001b[32mList\u001b[39m[\u001b[32mString\u001b[39m] = \u001b[33mList\u001b[39m(\u001b[32m\"al\"\u001b[39m, \u001b[32m\"peg\"\u001b[39m, \u001b[32m\"bud\"\u001b[39m, \u001b[32m\"kelly\"\u001b[39m)"
      ]
     },
     "execution_count": 9,
     "metadata": {},
     "output_type": "execute_result"
    }
   ],
   "source": [
    "// HoF !\n",
    "val words = List(\"peg\", \"al\", \"bud\", \"kelly\")\n",
    "words.count(word => word.size > 2)\n",
    "words.filter(word => word.size > 2)\n",
    "words.map(word => word.size)\n",
    "words.forall(word => word.size > 1)\n",
    "words.exists(word => word.size > 4)\n",
    "words.exists(word => word.size > 5)\n",
    "\n",
    "words.sortWith((s, t) => s.charAt(0).toLower < t.charAt(0).toLower)\n",
    "words.sortWith((s, t) => s.size < t.size)"
   ]
  },
  {
   "cell_type": "code",
   "execution_count": 10,
   "metadata": {
    "jupyter": {
     "outputs_hidden": false,
     "source_hidden": false
    },
    "nteract": {
     "transient": {
      "deleting": false
     }
    },
    "outputExpanded": false
   },
   "outputs": [
    {
     "data": {
      "text/plain": [
       "\u001b[36mlist\u001b[39m: \u001b[32mList\u001b[39m[\u001b[32mInt\u001b[39m] = \u001b[33mList\u001b[39m(\u001b[32m1\u001b[39m, \u001b[32m2\u001b[39m, \u001b[32m3\u001b[39m)\n",
       "\u001b[36mres9_1\u001b[39m: \u001b[32mInt\u001b[39m = \u001b[32m6\u001b[39m\n",
       "\u001b[36mres9_2\u001b[39m: \u001b[32mInt\u001b[39m = \u001b[32m6\u001b[39m"
      ]
     },
     "execution_count": 10,
     "metadata": {},
     "output_type": "execute_result"
    }
   ],
   "source": [
    "// fold\n",
    "val list = List(1, 2, 3)\n",
    "\n",
    "// two versions\n",
    "// 1. this one looks really odd ..\n",
    "(0 /: list)((sum, i) => sum + i)\n",
    "// 2. carrying\n",
    "list.foldLeft(0)((s, i) => s + i)"
   ]
  }
 ],
 "metadata": {
  "kernelspec": {
   "display_name": "Scala 2.13",
   "language": "scala",
   "name": "scala213"
  },
  "language_info": {
   "codemirror_mode": "text/x-scala",
   "file_extension": ".scala",
   "mimetype": "text/x-scala",
   "name": "scala",
   "nbconvert_exporter": "script",
   "version": "2.13.2"
  }
 },
 "nbformat": 4,
 "nbformat_minor": 1
}
