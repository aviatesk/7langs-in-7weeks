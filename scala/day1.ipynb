{
 "cells": [
  {
   "cell_type": "markdown",
   "metadata": {},
   "source": [
    "### day 1"
   ]
  },
  {
   "cell_type": "markdown",
   "metadata": {
    "nteract": {
     "transient": {
      "deleting": false
     }
    }
   },
   "source": [
    "in Scala, everything is an object, except some small exceptions"
   ]
  },
  {
   "cell_type": "code",
   "execution_count": 1,
   "metadata": {
    "jupyter": {
     "outputs_hidden": false,
     "source_hidden": false
    },
    "nteract": {
     "transient": {
      "deleting": false
     }
    },
    "outputExpanded": false
   },
   "outputs": [
    {
     "data": {
      "text/plain": [
       "\u001b[36mres0_0\u001b[39m: \u001b[32mInt\u001b[39m = \u001b[32m17\u001b[39m\n",
       "\u001b[36mres0_1\u001b[39m: \u001b[32mInt\u001b[39m = \u001b[32m17\u001b[39m\n",
       "\u001b[36mres0_2\u001b[39m: \u001b[32mInt\u001b[39m = \u001b[32m3\u001b[39m"
      ]
     },
     "execution_count": 1,
     "metadata": {},
     "output_type": "execute_result"
    }
   ],
   "source": [
    "5 + 4 * 3\n",
    "(5).+(4.*(3))\n",
    "\"abc\".size"
   ]
  },
  {
   "cell_type": "markdown",
   "metadata": {
    "nteract": {
     "transient": {
      "deleting": false
     }
    }
   },
   "source": [
    "type coercing (via type inference)"
   ]
  },
  {
   "cell_type": "code",
   "execution_count": 2,
   "metadata": {
    "jupyter": {
     "outputs_hidden": false,
     "source_hidden": false
    },
    "nteract": {
     "transient": {
      "deleting": false
     }
    },
    "outputExpanded": false
   },
   "outputs": [
    {
     "data": {
      "text/plain": [
       "\u001b[36mres1_0\u001b[39m: \u001b[32mString\u001b[39m = \u001b[32m\"abc4\"\u001b[39m\n",
       "\u001b[36mres1_1\u001b[39m: \u001b[32mString\u001b[39m = \u001b[32m\"41.0\"\u001b[39m"
      ]
     },
     "execution_count": 2,
     "metadata": {},
     "output_type": "execute_result"
    }
   ],
   "source": [
    "\"abc\" + 4\n",
    "4 + \"1.0\""
   ]
  },
  {
   "cell_type": "markdown",
   "metadata": {
    "nteract": {
     "transient": {
      "deleting": false
     }
    }
   },
   "source": [
    "compile time type error; Scala REPL actually compiles lines of code and runs each one piecemean"
   ]
  },
  {
   "cell_type": "code",
   "execution_count": 2,
   "metadata": {
    "jupyter": {
     "outputs_hidden": false,
     "source_hidden": false
    },
    "nteract": {
     "transient": {
      "deleting": false
     }
    },
    "outputExpanded": false
   },
   "outputs": [
    {
     "name": "stderr",
     "output_type": "stream",
     "text": [
      "cmd2.sc:1: overloaded method * with alternatives:\n",
      "  (x: Double)Double <and>\n",
      "  (x: Float)Float <and>\n",
      "  (x: Long)Long <and>\n",
      "  (x: Int)Int <and>\n",
      "  (x: Char)Int <and>\n",
      "  (x: Short)Int <and>\n",
      "  (x: Byte)Int\n",
      " cannot be applied to (String)\n",
      "val res2 = 4 * \"1.0\"\n",
      "             ^Compilation Failed"
     ]
    },
    {
     "ename": "",
     "evalue": "",
     "output_type": "error",
     "traceback": [
      "Compilation Failed"
     ]
    }
   ],
   "source": [
    "4 * \"1.0\""
   ]
  },
  {
   "cell_type": "markdown",
   "metadata": {
    "nteract": {
     "transient": {
      "deleting": false
     }
    }
   },
   "source": [
    "declaration:\n",
    "- no need to explicitly type annotate (thanks to type inference)\n",
    "- `val` vs. `var`:\n",
    "  * `val`: immutable\n",
    "  * `var`: mutable"
   ]
  },
  {
   "cell_type": "code",
   "execution_count": 3,
   "metadata": {
    "jupyter": {
     "outputs_hidden": false,
     "source_hidden": false
    },
    "nteract": {
     "transient": {
      "deleting": false
     }
    },
    "outputExpanded": false
   },
   "outputs": [
    {
     "data": {
      "text/html": [
       "<div class=\"jp-RenderedText\">\n",
       "<pre><code><span style=\"color: rgb(0, 187, 187)\"><span class=\"ansi-cyan-fg\">vl</span></span>: <span style=\"color: rgb(0, 187, 0)\"><span class=\"ansi-green-fg\">Int</span></span> = <span style=\"color: rgb(0, 187, 0)\"><span class=\"ansi-green-fg\">1</span></span>\n",
       "<span style=\"color: rgb(0, 187, 187)\"><span class=\"ansi-cyan-fg\">vr</span></span>: <span style=\"color: rgb(0, 187, 0)\"><span class=\"ansi-green-fg\">Int</span></span> = <span style=\"color: rgb(0, 187, 0)\"><span class=\"ansi-green-fg\">2</span></span></code></pre>\n",
       "</div>"
      ],
      "text/plain": [
       "\u001b[36mvl\u001b[39m: \u001b[32mInt\u001b[39m = \u001b[32m1\u001b[39m\n",
       "\u001b[36mvr\u001b[39m: \u001b[32mInt\u001b[39m = \u001b[32m2\u001b[39m"
      ]
     },
     "metadata": {},
     "output_type": "display_data"
    }
   ],
   "source": [
    "val vl = 1\n",
    "// val vl: Int = 1 // equivalent to above\n",
    "// vl = 2 // errors\n",
    "\n",
    "var vr = 1\n",
    "vr = 2"
   ]
  },
  {
   "cell_type": "markdown",
   "metadata": {
    "nteract": {
     "transient": {
      "deleting": false
     }
    }
   },
   "source": [
    "conditions ?:\n",
    "- only `Boolean` type is accepted as conditions\n",
    "- we can't use e.g. `0` or `Nil` (an empty list) as conditions"
   ]
  },
  {
   "cell_type": "code",
   "execution_count": 4,
   "metadata": {
    "jupyter": {
     "outputs_hidden": false,
     "source_hidden": false
    },
    "nteract": {
     "transient": {
      "deleting": false
     }
    },
    "outputExpanded": false
   },
   "outputs": [
    {
     "name": "stdout",
     "output_type": "stream",
     "text": [
      "true\n"
     ]
    }
   ],
   "source": [
    "if (true) { println(\"true\") }"
   ]
  },
  {
   "cell_type": "code",
   "execution_count": 4,
   "metadata": {
    "jupyter": {
     "outputs_hidden": false,
     "source_hidden": false
    },
    "nteract": {
     "transient": {
      "deleting": false
     }
    },
    "outputExpanded": false
   },
   "outputs": [
    {
     "name": "stderr",
     "output_type": "stream",
     "text": [
      "cmd4.sc:1: type mismatch;\n",
      " found   : Int(0)\n",
      " required: Boolean\n",
      "val res4 = if (0) { println(\"false ?\") }\n",
      "               ^Compilation Failed"
     ]
    },
    {
     "ename": "",
     "evalue": "",
     "output_type": "error",
     "traceback": [
      "Compilation Failed"
     ]
    }
   ],
   "source": [
    "if (0) { println(\"false ?\") }"
   ]
  },
  {
   "cell_type": "markdown",
   "metadata": {
    "nteract": {
     "transient": {
      "deleting": false
     }
    }
   },
   "source": [
    "Loops"
   ]
  },
  {
   "cell_type": "code",
   "execution_count": 5,
   "metadata": {
    "jupyter": {
     "outputs_hidden": false,
     "source_hidden": false
    },
    "nteract": {
     "transient": {
      "deleting": false
     }
    },
    "outputExpanded": false
   },
   "outputs": [
    {
     "name": "stdout",
     "output_type": "stream",
     "text": [
      "1\n",
      "2\n",
      "3\n"
     ]
    },
    {
     "data": {
      "text/plain": [
       "defined \u001b[32mfunction\u001b[39m \u001b[36mwhileLoop\u001b[39m"
      ]
     },
     "execution_count": 5,
     "metadata": {},
     "output_type": "execute_result"
    }
   ],
   "source": [
    "// no need to annotate `public` ! (it's default in Scala)\n",
    "def whileLoop() {\n",
    "  var i = 1\n",
    "  while (i <= 3) {\n",
    "    println(i)\n",
    "    i += 1\n",
    "  }\n",
    "}\n",
    "whileLoop()"
   ]
  },
  {
   "cell_type": "code",
   "execution_count": 6,
   "metadata": {
    "jupyter": {
     "outputs_hidden": false,
     "source_hidden": false
    },
    "nteract": {
     "transient": {
      "deleting": false
     }
    },
    "outputExpanded": false
   },
   "outputs": [
    {
     "name": "stdout",
     "output_type": "stream",
     "text": [
      "for loop using Java-style iteration\n",
      "1\n",
      "2\n",
      "for loop using Ruby-style iteration\n",
      "1\n",
      "2\n"
     ]
    },
    {
     "data": {
      "text/plain": [
       "defined \u001b[32mfunction\u001b[39m \u001b[36mforLoop\u001b[39m\n",
       "defined \u001b[32mfunction\u001b[39m \u001b[36mforEach\u001b[39m"
      ]
     },
     "execution_count": 6,
     "metadata": {},
     "output_type": "execute_result"
    }
   ],
   "source": [
    "def forLoop(args: Range) {\n",
    "  println(\"for loop using Java-style iteration\")\n",
    "  for (i <- 0 until args.length) {\n",
    "    println(args(i))\n",
    "  }\n",
    "}\n",
    "forLoop(1 until 3)\n",
    "\n",
    "def forEach(args: Range) {\n",
    "  println(\"for loop using Ruby-style iteration\")\n",
    "  args.foreach { arg =>\n",
    "    println(arg)\n",
    "  }\n",
    "}\n",
    "forEach(1 until 3)"
   ]
  },
  {
   "cell_type": "markdown",
   "metadata": {
    "nteract": {
     "transient": {
      "deleting": false
     }
    }
   },
   "source": [
    "`Range`s"
   ]
  },
  {
   "cell_type": "code",
   "execution_count": 7,
   "metadata": {
    "jupyter": {
     "outputs_hidden": false,
     "source_hidden": false
    },
    "nteract": {
     "transient": {
      "deleting": false
     }
    },
    "outputExpanded": false
   },
   "outputs": [
    {
     "data": {
      "text/plain": [
       "\u001b[36mres6_0\u001b[39m: \u001b[32mRange\u001b[39m = \u001b[33mRange\u001b[39m(\u001b[32m0\u001b[39m, \u001b[32m1\u001b[39m, \u001b[32m2\u001b[39m, \u001b[32m3\u001b[39m, \u001b[32m4\u001b[39m, \u001b[32m5\u001b[39m, \u001b[32m6\u001b[39m, \u001b[32m7\u001b[39m, \u001b[32m8\u001b[39m, \u001b[32m9\u001b[39m)\n",
       "\u001b[36mres6_1\u001b[39m: \u001b[32mRange\u001b[39m.\u001b[32mInclusive\u001b[39m = \u001b[33mRange\u001b[39m(\u001b[32m0\u001b[39m, \u001b[32m1\u001b[39m, \u001b[32m2\u001b[39m, \u001b[32m3\u001b[39m, \u001b[32m4\u001b[39m, \u001b[32m5\u001b[39m, \u001b[32m6\u001b[39m, \u001b[32m7\u001b[39m, \u001b[32m8\u001b[39m, \u001b[32m9\u001b[39m, \u001b[32m10\u001b[39m)\n",
       "\u001b[36mres6_2\u001b[39m: \u001b[32mRange\u001b[39m = \u001b[33mRange\u001b[39m(\u001b[32m0\u001b[39m, \u001b[32m5\u001b[39m, \u001b[32m10\u001b[39m)\n",
       "\u001b[36mres6_3\u001b[39m: \u001b[32mRange\u001b[39m = \u001b[33mRange\u001b[39m(\u001b[32m10\u001b[39m, \u001b[32m9\u001b[39m, \u001b[32m8\u001b[39m, \u001b[32m7\u001b[39m, \u001b[32m6\u001b[39m, \u001b[32m5\u001b[39m, \u001b[32m4\u001b[39m, \u001b[32m3\u001b[39m, \u001b[32m2\u001b[39m, \u001b[32m1\u001b[39m)\n",
       "\u001b[36mres6_4\u001b[39m: \u001b[32mRange\u001b[39m = \u001b[33mRange\u001b[39m()\n",
       "\u001b[36mres6_5\u001b[39m: \u001b[32mcollection\u001b[39m.\u001b[32mimmutable\u001b[39m.\u001b[32mNumericRange\u001b[39m.\u001b[32mInclusive\u001b[39m[\u001b[32mChar\u001b[39m] = \u001b[33mNumericRange\u001b[39m(\n",
       "  \u001b[32m'a'\u001b[39m,\n",
       "  \u001b[32m'b'\u001b[39m,\n",
       "  \u001b[32m'c'\u001b[39m,\n",
       "  \u001b[32m'd'\u001b[39m,\n",
       "  \u001b[32m'e'\u001b[39m\n",
       ")"
      ]
     },
     "execution_count": 7,
     "metadata": {},
     "output_type": "execute_result"
    }
   ],
   "source": [
    "// `until` vs. `to`\n",
    "0 until 10 // non-inclusive\n",
    "(0 to 10) // inclusive\n",
    "\n",
    "// steps\n",
    "(0 to 10) by 5\n",
    "(10 until 0) by -1\n",
    "(10 until 0)  // the default step is \"always\" `1`\n",
    "\n",
    "// other\n",
    "'a' to 'e'"
   ]
  },
  {
   "cell_type": "markdown",
   "metadata": {
    "nteract": {
     "transient": {
      "deleting": false
     }
    }
   },
   "source": [
    "Tuples"
   ]
  },
  {
   "cell_type": "code",
   "execution_count": 8,
   "metadata": {
    "jupyter": {
     "outputs_hidden": false,
     "source_hidden": false
    },
    "nteract": {
     "transient": {
      "deleting": false
     }
    },
    "outputExpanded": false
   },
   "outputs": [
    {
     "data": {
      "text/plain": [
       "\u001b[36mme\u001b[39m: (\u001b[32mString\u001b[39m, \u001b[32mString\u001b[39m) = (\u001b[32m\"Shuhei\"\u001b[39m, \u001b[32m\"Kadowaki\"\u001b[39m)\n",
       "\u001b[36mres7_1\u001b[39m: \u001b[32mString\u001b[39m = \u001b[32m\"Shuhei\"\u001b[39m\n",
       "\u001b[36mres7_2\u001b[39m: \u001b[32mString\u001b[39m = \u001b[32m\"Kadowaki\"\u001b[39m"
      ]
     },
     "execution_count": 8,
     "metadata": {},
     "output_type": "execute_result"
    }
   ],
   "source": [
    "val me = (\"Shuhei\", \"Kadowaki\")\n",
    "me._1\n",
    "me._2"
   ]
  },
  {
   "cell_type": "code",
   "execution_count": 8,
   "metadata": {
    "jupyter": {
     "outputs_hidden": false,
     "source_hidden": false
    },
    "nteract": {
     "transient": {
      "deleting": false
     }
    },
    "outputExpanded": false
   },
   "outputs": [
    {
     "name": "stderr",
     "output_type": "stream",
     "text": [
      "cmd8.sc:1: value _3 is not a member of (String, String)\n",
      "val res8 = me._3 // compile time error; meaning Tuple has a fixed length\n",
      "              ^Compilation Failed"
     ]
    },
    {
     "ename": "",
     "evalue": "",
     "output_type": "error",
     "traceback": [
      "Compilation Failed"
     ]
    }
   ],
   "source": [
    "me._3 // compile time error; meaning Tuple has a fixed length"
   ]
  },
  {
   "cell_type": "code",
   "execution_count": 9,
   "metadata": {
    "jupyter": {
     "outputs_hidden": false,
     "source_hidden": false
    },
    "nteract": {
     "transient": {
      "deleting": false
     }
    },
    "outputExpanded": false
   },
   "outputs": [
    {
     "data": {
      "text/plain": [
       "\u001b[36mte1\u001b[39m: \u001b[32mInt\u001b[39m = \u001b[32m1\u001b[39m\n",
       "\u001b[36mte2\u001b[39m: \u001b[32mInt\u001b[39m = \u001b[32m2\u001b[39m"
      ]
     },
     "execution_count": 9,
     "metadata": {},
     "output_type": "execute_result"
    }
   ],
   "source": [
    "val (te1, te2) = (1, 2)"
   ]
  },
  {
   "cell_type": "markdown",
   "metadata": {
    "nteract": {
     "transient": {
      "deleting": false
     }
    }
   },
   "source": [
    "Classes\n",
    "\n",
    "simple class:\n",
    "```scala\n",
    "class Person(firstName: String, lastName: String)\n",
    "```"
   ]
  },
  {
   "cell_type": "code",
   "execution_count": 10,
   "metadata": {
    "jupyter": {
     "outputs_hidden": false,
     "source_hidden": false
    },
    "nteract": {
     "transient": {
      "deleting": false
     }
    },
    "outputExpanded": false
   },
   "outputs": [
    {
     "data": {
      "text/plain": [
       "defined \u001b[32mclass\u001b[39m \u001b[36mPerson\u001b[39m\n",
       "\u001b[36mme\u001b[39m: \u001b[32mPerson\u001b[39m = ammonite.$sess.cmd9$Helper$Person@533f1f50"
      ]
     },
     "execution_count": 10,
     "metadata": {},
     "output_type": "execute_result"
    }
   ],
   "source": [
    "class Person(firstName: String, lastName: String)\n",
    "val me = new Person(\"Shuhei\", \"Kadowaki\")"
   ]
  },
  {
   "cell_type": "code",
   "execution_count": 11,
   "metadata": {
    "jupyter": {
     "outputs_hidden": false,
     "source_hidden": false
    },
    "nteract": {
     "transient": {
      "deleting": false
     }
    },
    "outputExpanded": false
   },
   "outputs": [
    {
     "name": "stdout",
     "output_type": "stream",
     "text": [
      "Initial bearing: north\n",
      "Turning right. Now bearing east\n",
      "Turning right. Now bearing south\n",
      "Turning left. Now bearing east\n",
      "Turning left. Now bearing north\n",
      "Turning left. Now bearing south\n"
     ]
    },
    {
     "data": {
      "text/plain": [
       "defined \u001b[32mclass\u001b[39m \u001b[36mCompass\u001b[39m\n",
       "\u001b[36mcompass\u001b[39m: \u001b[32mCompass\u001b[39m = ammonite.$sess.cmd10$Helper$Compass@49317710"
      ]
     },
     "execution_count": 11,
     "metadata": {},
     "output_type": "execute_result"
    }
   ],
   "source": [
    "// do more complex\n",
    "class Compass {\n",
    "  // NOTE: the code block below are all _constructors_\n",
    "\n",
    "  val directions = List(\"north\", \"east\", \"south\")\n",
    "  var bearing = 0\n",
    "  print(\"Initial bearing: \")\n",
    "  println(direction)\n",
    "\n",
    "  def direction() = directions(bearing)\n",
    "\n",
    "  def inform(turnDirection: String) {\n",
    "    println(\"Turning \" + turnDirection + \". Now bearing \" + direction)\n",
    "  }\n",
    "\n",
    "  def turnRight() {\n",
    "    bearing = (bearing + 1) % directions.size\n",
    "    inform(\"right\")\n",
    "  }\n",
    "\n",
    "  def turnLeft() {\n",
    "    bearing = (bearing + (directions.size - 1)) % directions.size\n",
    "    inform(\"left\")\n",
    "  }\n",
    "}\n",
    "\n",
    "val compass = new Compass\n",
    "compass.turnRight\n",
    "compass.turnRight()\n",
    "compass.turnLeft\n",
    "compass.turnLeft\n",
    "compass.turnLeft"
   ]
  },
  {
   "cell_type": "code",
   "execution_count": 12,
   "metadata": {
    "jupyter": {
     "outputs_hidden": false,
     "source_hidden": false
    },
    "nteract": {
     "transient": {
      "deleting": false
     }
    },
    "outputExpanded": false
   },
   "outputs": [
    {
     "name": "stdout",
     "output_type": "stream",
     "text": [
      "Outer constructor\n",
      "Outer constructor\n",
      "Inner constructor\n"
     ]
    },
    {
     "data": {
      "text/plain": [
       "defined \u001b[32mclass\u001b[39m \u001b[36mPerson\u001b[39m\n",
       "\u001b[36ms\u001b[39m: \u001b[32mPerson\u001b[39m = ammonite.$sess.cmd11$Helper$Person@452e31f8\n",
       "\u001b[36msk\u001b[39m: \u001b[32mPerson\u001b[39m = ammonite.$sess.cmd11$Helper$Person@3317ff21"
      ]
     },
     "execution_count": 12,
     "metadata": {},
     "output_type": "execute_result"
    }
   ],
   "source": [
    "// **auxiliary constructors**\n",
    "class Person(firstName: String) {\n",
    "  println(\"Outer constructor\")\n",
    "\n",
    "  // NOTE: this is an auxiliary constructor\n",
    "  def this(firstName: String, lastName: String) {\n",
    "    this(firstName)\n",
    "    println(\"Inner constructor\")\n",
    "  }\n",
    "\n",
    "  def talk() = println(\"Hi\")\n",
    "}\n",
    "\n",
    "val s = new Person(\"Shuhei\")\n",
    "val sk = new Person(\"Shuhei\", \"Kadowaki\")"
   ]
  },
  {
   "cell_type": "markdown",
   "metadata": {
    "nteract": {
     "transient": {
      "deleting": false
     }
    }
   },
   "source": [
    "Objects vs. Classes (_**companion objects**_)\n",
    "- `object` definition for singleton object\n",
    "- `class` definition for class instances\n",
    "\n",
    "NOTE: In Scala, we can have both an `object` definition and a `class`  definition with the same name."
   ]
  },
  {
   "cell_type": "code",
   "execution_count": 13,
   "metadata": {
    "jupyter": {
     "outputs_hidden": false,
     "source_hidden": false
    },
    "nteract": {
     "transient": {
      "deleting": false
     }
    },
    "outputExpanded": false
   },
   "outputs": [
    {
     "name": "stdout",
     "output_type": "stream",
     "text": [
      "To rule them all\n"
     ]
    },
    {
     "data": {
      "text/plain": [
       "defined \u001b[32mobject\u001b[39m \u001b[36mTrueRing\u001b[39m"
      ]
     },
     "execution_count": 13,
     "metadata": {},
     "output_type": "execute_result"
    }
   ],
   "source": [
    "object TrueRing {\n",
    "  def rule = println(\"To rule them all\")\n",
    "}\n",
    "TrueRing.rule"
   ]
  },
  {
   "cell_type": "markdown",
   "metadata": {
    "nteract": {
     "transient": {
      "deleting": false
     }
    }
   },
   "source": [
    "Inheritance"
   ]
  },
  {
   "cell_type": "code",
   "execution_count": 14,
   "metadata": {
    "jupyter": {
     "outputs_hidden": false,
     "source_hidden": false
    },
    "nteract": {
     "transient": {
      "deleting": false
     }
    },
    "outputExpanded": false
   },
   "outputs": [
    {
     "name": "stdout",
     "output_type": "stream",
     "text": [
      "Yoda with number 4 says Extend or extend not. There is no try.\n"
     ]
    },
    {
     "data": {
      "text/plain": [
       "defined \u001b[32mclass\u001b[39m \u001b[36mPerson\u001b[39m\n",
       "defined \u001b[32mclass\u001b[39m \u001b[36mEmployee\u001b[39m\n",
       "\u001b[36memployee\u001b[39m: \u001b[32mEmployee\u001b[39m = ammonite.$sess.cmd13$Helper$Employee@74501910"
      ]
     },
     "execution_count": 14,
     "metadata": {},
     "output_type": "execute_result"
    }
   ],
   "source": [
    "// NOTE:\n",
    "// `override` seems verbose, but also useful for avoding misspellings,\n",
    "// but, ..., this really looks like the old f*cking Java ...\n",
    "class Person(val name: String) {\n",
    "  def talk(message: String) = println(name + \" says \" + message)\n",
    "}\n",
    "\n",
    "class Employee(override val name: String,\n",
    "                        val number: Int) extends Person(name) {\n",
    "  override def talk(message: String) {\n",
    "    println(name + \" with number \" + number + \" says \" + message)\n",
    "  }\n",
    "\n",
    "  def id(): String = number.toString\n",
    "}\n",
    "\n",
    "val employee = new Employee(\"Yoda\", 4)\n",
    "employee.talk(\"Extend or extend not. There is no try.\")"
   ]
  },
  {
   "cell_type": "markdown",
   "metadata": {
    "nteract": {
     "transient": {
      "deleting": false
     }
    }
   },
   "source": [
    "**Traits**\n",
    "\n",
    "> a trait is like a Java interface plus an implementation."
   ]
  },
  {
   "cell_type": "code",
   "execution_count": 15,
   "metadata": {
    "jupyter": {
     "outputs_hidden": false,
     "source_hidden": false
    },
    "nteract": {
     "transient": {
      "deleting": false
     }
    },
    "outputExpanded": false
   },
   "outputs": [
    {
     "name": "stdout",
     "output_type": "stream",
     "text": [
      "Howdily doodily.\n"
     ]
    },
    {
     "data": {
      "text/plain": [
       "defined \u001b[32mclass\u001b[39m \u001b[36mPerson\u001b[39m\n",
       "defined \u001b[32mtrait\u001b[39m \u001b[36mNice\u001b[39m\n",
       "defined \u001b[32mclass\u001b[39m \u001b[36mCharacter\u001b[39m\n",
       "\u001b[36mflanders\u001b[39m: \u001b[32mCharacter\u001b[39m = ammonite.$sess.cmd14$Helper$Character@d117d46"
      ]
     },
     "execution_count": 15,
     "metadata": {},
     "output_type": "execute_result"
    }
   ],
   "source": [
    "class Person(val name: String)\n",
    "\n",
    "// like a Ruby's mixin\n",
    "trait Nice {\n",
    "  def greet() = println(\"Howdily doodily.\")\n",
    "}\n",
    "\n",
    "class Character(override val name: String) extends Person(name) with Nice\n",
    "\n",
    "val flanders = new Character(\"Ned\")\n",
    "flanders.greet // any instance of `Character` has `greet` method now"
   ]
  }
 ],
 "metadata": {
  "kernelspec": {
   "display_name": "Scala 2.13",
   "language": "scala",
   "name": "scala213"
  },
  "language_info": {
   "codemirror_mode": "text/x-scala",
   "file_extension": ".scala",
   "mimetype": "text/x-scala",
   "name": "scala",
   "nbconvert_exporter": "script",
   "version": "2.13.2"
  }
 },
 "nbformat": 4,
 "nbformat_minor": 1
}
